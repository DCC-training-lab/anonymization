{
 "cells": [
  {
   "cell_type": "markdown",
   "metadata": {},
   "source": [
    "# Week 01\n",
    "\n",
    "## Step 01\n",
    "\n",
    "1. Analyse the following given Python programs. Identify different syntactical elements of each program. Discuss/Write down the semantic of each element. Try to guess what will be the behaviour and result of each program."
   ]
  },
  {
   "cell_type": "code",
   "execution_count": 5,
   "metadata": {},
   "outputs": [
    {
     "name": "stdout",
     "output_type": "stream",
     "text": [
      "2000 is a leap year\n"
     ]
    }
   ],
   "source": [
    "# Example 01: [todo: copy a simple python program covering the elements from Unit 01].\n",
    "\n",
    "year = 2000\n",
    "if (year % 400 == 0) and (year % 100 == 0):\n",
    "    print(\"{0} is a leap year\".format(year))\n",
    "elif (year % 4 ==0) and (year % 100 != 0):\n",
    "    print(\"{0} is a leap year\".format(year))\n",
    "else:\n",
    "    print(\"{0} is not a leap year\".format(year))"
   ]
  },
  {
   "cell_type": "code",
   "execution_count": 6,
   "metadata": {},
   "outputs": [],
   "source": [
    "# Example 02: [todo: copy a simple python program covering the elements from Unit 02.]"
   ]
  },
  {
   "cell_type": "code",
   "execution_count": 7,
   "metadata": {},
   "outputs": [],
   "source": [
    "# Example 03: [todo: copy a simple python program covering the elements from Unit 03.]"
   ]
  },
  {
   "cell_type": "markdown",
   "metadata": {},
   "source": [
    "2. Read the resource provided here and try the examples.\n",
    "Resurce: [Getting started with Python](https://www.w3schools.com/python/python_getstarted.asp)"
   ]
  },
  {
   "cell_type": "markdown",
   "metadata": {},
   "source": [
    "3. Read the resource provided here and try the examples.\n",
    "Resource: [How to execute Python syntax?](https://www.w3schools.com/python/python_syntax.asp)"
   ]
  },
  {
   "cell_type": "markdown",
   "metadata": {},
   "source": [
    "## Step 02\n",
    "\n",
    "1. Read the resource provided here and try the examples. *Note: some of the concepts will be covered later. But, it will be helpful to try all the steps.*\n",
    "Resource: [Variables](https://www.w3schools.com/python/python_variables.asp)"
   ]
  },
  {
   "cell_type": "code",
   "execution_count": null,
   "metadata": {},
   "outputs": [],
   "source": []
  },
  {
   "cell_type": "markdown",
   "metadata": {},
   "source": [
    "## Step 03\n",
    "\n",
    "1. Implement a program that given number of years as input prints the number of months and days as output."
   ]
  },
  {
   "cell_type": "code",
   "execution_count": 9,
   "metadata": {},
   "outputs": [
    {
     "name": "stdout",
     "output_type": "stream",
     "text": [
      "Enter the number of years: 6\n",
      "Number of months:  72\n",
      "Number of days:  365\n"
     ]
    }
   ],
   "source": [
    "# Exercise: Implement a program that given number of years as input prints the number of months and days as output.\n",
    "# Sample solution\n",
    "months_per_year = 12\n",
    "days_per_year = 365\n",
    "num_of_years_inp = input('Enter the number of years: ')\n",
    "num_of_years = int(num_of_years_inp)\n",
    "num_of_months = num_of_years * months_per_year\n",
    "num_of_days = num_of_years * days_per_year\n",
    "print('Number of months: ', num_of_months)\n",
    "print('Number of days: ', days_per_year)"
   ]
  },
  {
   "cell_type": "markdown",
   "metadata": {},
   "source": [
    "2. Write a program that asks the user to enter his or her name. The program should respond with a message that says hello to the user, using his or her name."
   ]
  },
  {
   "cell_type": "code",
   "execution_count": 14,
   "metadata": {},
   "outputs": [
    {
     "name": "stdout",
     "output_type": "stream",
     "text": [
      "Please enter your name: Johan\n",
      "Hello Johan ! \n"
     ]
    }
   ],
   "source": [
    "# Write a program that asks the user to enter his or her name. \n",
    "# The program should respond with a message that says hello to the user, using his or her name.\n",
    "# Sample solution\n",
    "message_prefix = 'Hello '\n",
    "message_suffix = ' ! '\n",
    "user_name = input('Please enter your name: ')\n",
    "result = message_prefix + user_name + message_suffix\n",
    "print(result)"
   ]
  },
  {
   "cell_type": "markdown",
   "metadata": {},
   "source": [
    "3. Write a program that asks the user to enter the width and length of a room. Once the values have been read, your program should compute and display the area of the room. The length and the width will be entered as floating point numbers. Include units in your prompt and output message; either feet or meters, depending on which unit you are more comfortable working with."
   ]
  },
  {
   "cell_type": "code",
   "execution_count": 13,
   "metadata": {},
   "outputs": [],
   "source": [
    "# Exercise: Write a program that asks the user to enter the width and length of a room. \n",
    "# Once the values have been read, your program should compute and display the area of the room. \n",
    "# The length and the width will be entered as floating point numbers. Include units in your prompt and output message;\n",
    "# either feet or meters, depending on which unit you are more comfortable working with.\n",
    "# Sample solution: [todo]\n"
   ]
  },
  {
   "cell_type": "code",
   "execution_count": null,
   "metadata": {},
   "outputs": [],
   "source": []
  }
 ],
 "metadata": {
  "kernelspec": {
   "display_name": "Python 3",
   "language": "python",
   "name": "python3"
  },
  "language_info": {
   "codemirror_mode": {
    "name": "ipython",
    "version": 3
   },
   "file_extension": ".py",
   "mimetype": "text/x-python",
   "name": "python",
   "nbconvert_exporter": "python",
   "pygments_lexer": "ipython3",
   "version": "3.8.5"
  }
 },
 "nbformat": 4,
 "nbformat_minor": 4
}
